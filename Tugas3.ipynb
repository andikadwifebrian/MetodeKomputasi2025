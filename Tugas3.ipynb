{
 "cells": [
  {
   "cell_type": "code",
   "execution_count": 11,
   "id": "5750bc06",
   "metadata": {},
   "outputs": [
    {
     "name": "stdout",
     "output_type": "stream",
     "text": [
      "The seating capacity of a Tayo is 50 passengers\n"
     ]
    }
   ],
   "source": [
    "# Parent class\n",
    "class Vehicle:\n",
    "    def __init__(self, name, max_speed, mileage):\n",
    "        self.name = name\n",
    "        self.max_speed = max_speed\n",
    "        self.mileage = mileage\n",
    "\n",
    "    def seating_capacity(self, capacity):\n",
    "        return f\"The seating capacity of a {self.name} is {capacity} passengers\"\n",
    "\n",
    "\n",
    "# Child class Bus yang mewarisi Vehicle\n",
    "class Bus(Vehicle):\n",
    "    # Override method seating_capacity dengan default 50\n",
    "    def seating_capacity(self, capacity=50):\n",
    "        # Memanggil method parent dengan kapasitas default 50\n",
    "        return super().seating_capacity(capacity)\n",
    "\n",
    "\n",
    "# Membuat objek Bus\n",
    "bus_school = Bus(\"Tayo\", 80, 12)\n",
    "\n",
    "# Menampilkan output sesuai yang diminta\n",
    "print(bus_school.seating_capacity())"
   ]
  }
 ],
 "metadata": {
  "kernelspec": {
   "display_name": "base",
   "language": "python",
   "name": "python3"
  },
  "language_info": {
   "codemirror_mode": {
    "name": "ipython",
    "version": 3
   },
   "file_extension": ".py",
   "mimetype": "text/x-python",
   "name": "python",
   "nbconvert_exporter": "python",
   "pygments_lexer": "ipython3",
   "version": "3.13.5"
  }
 },
 "nbformat": 4,
 "nbformat_minor": 5
}
