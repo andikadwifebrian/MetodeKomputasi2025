{
 "cells": [
  {
   "cell_type": "code",
   "execution_count": 2,
   "id": "5363f81f",
   "metadata": {},
   "outputs": [
    {
     "name": "stdout",
     "output_type": "stream",
     "text": [
      "DAFTAR MOBIL NDIKA JAYA \n",
      "\n",
      "Merek : Toyota\n",
      "Model : Avanza\n",
      "Tahun : 2022\n",
      "Warna : Hitam\n",
      "------------------------------\n",
      "Merek : Honda\n",
      "Model : Civic\n",
      "Tahun : 2020\n",
      "Warna : Merah\n",
      "------------------------------\n",
      "Merek : Suzuki\n",
      "Model : Ertiga\n",
      "Tahun : 2021\n",
      "Warna : Putih\n",
      "------------------------------\n",
      "Merek : Mitsubishi\n",
      "Model : Pajero\n",
      "Tahun : 2023\n",
      "Warna : Abu-abu\n",
      "------------------------------\n",
      "Merek : Daihatsu\n",
      "Model : Xenia\n",
      "Tahun : 2019\n",
      "Warna : Biru\n",
      "------------------------------\n"
     ]
    }
   ],
   "source": [
    "# Kelas Mobil dengan atribut instance\n",
    "class Mobil:\n",
    "    def __init__(self, merek, model, tahun, warna):\n",
    "        self.merek = merek\n",
    "        self.model = model\n",
    "        self.tahun = tahun\n",
    "        self.warna = warna\n",
    "\n",
    "    def info_mobil(self):\n",
    "        print(f\"Merek : {self.merek}\")\n",
    "        print(f\"Model : {self.model}\")\n",
    "        print(f\"Tahun : {self.tahun}\")\n",
    "        print(f\"Warna : {self.warna}\")\n",
    "        print(\"-\" * 30)\n",
    "\n",
    "\n",
    "# Membuat beberapa objek Mobil\n",
    "mobil1 = Mobil(\"Toyota\", \"Avanza\", 2022, \"Hitam\")\n",
    "mobil2 = Mobil(\"Honda\", \"Civic\", 2020, \"Merah\")\n",
    "mobil3 = Mobil(\"Suzuki\", \"Ertiga\", 2021, \"Putih\")\n",
    "mobil4 = Mobil(\"Mitsubishi\", \"Pajero\", 2023, \"Abu-abu\")\n",
    "mobil5 = Mobil(\"Daihatsu\", \"Xenia\", 2019, \"Biru\")\n",
    "\n",
    "# Menyimpan semua objek ke dalam list\n",
    "daftar_mobil = [mobil1, mobil2, mobil3, mobil4, mobil5]\n",
    "\n",
    "# Menampilkan data semua mobil\n",
    "print(\"DAFTAR MOBIL NDIKA JAYA \\n\")\n",
    "for mobil in daftar_mobil:\n",
    "    mobil.info_mobil()"
   ]
  }
 ],
 "metadata": {
  "kernelspec": {
   "display_name": "base",
   "language": "python",
   "name": "python3"
  },
  "language_info": {
   "codemirror_mode": {
    "name": "ipython",
    "version": 3
   },
   "file_extension": ".py",
   "mimetype": "text/x-python",
   "name": "python",
   "nbconvert_exporter": "python",
   "pygments_lexer": "ipython3",
   "version": "3.13.5"
  }
 },
 "nbformat": 4,
 "nbformat_minor": 5
}
