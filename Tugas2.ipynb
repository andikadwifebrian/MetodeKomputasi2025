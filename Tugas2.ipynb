{
 "cells": [
  {
   "cell_type": "code",
   "execution_count": 8,
   "id": "0c47e7bb",
   "metadata": {},
   "outputs": [
    {
     "name": "stdout",
     "output_type": "stream",
     "text": [
      "DAFTAR HEWAN\n",
      "\n",
      "Hewan : Elang Jawa\n",
      "Jenis Makanan : Karnivora\n",
      "Warna Bulu  : Cokelat Gelap\n",
      "Bisa Terbang: Ya\n",
      "-----------------------------------\n",
      "Hewan : Ayam Kampung\n",
      "Jenis Makanan : Omnivora\n",
      "Warna Bulu  : Cokelat\n",
      "Bisa Terbang: Tidak\n",
      "-----------------------------------\n",
      "Hewan : Ikan Koi\n",
      "Jenis Makanan : Omnivora\n",
      "Habitat     : Kolam\n",
      "-----------------------------------\n",
      "Hewan : Ikan Salmon\n",
      "Jenis Makanan : Karnivora\n",
      "Habitat     : Sungai dan Laut\n",
      "-----------------------------------\n"
     ]
    }
   ],
   "source": [
    "# Parent class\n",
    "class Hewan:\n",
    "    def __init__(self, nama, jenis_makanan):\n",
    "        self.nama = nama\n",
    "        self.jenis_makanan = jenis_makanan\n",
    "\n",
    "    def info_hewan(self):\n",
    "        print(f\"Hewan : {self.nama}\")\n",
    "        print(f\"Jenis Makanan : {self.jenis_makanan}\")\n",
    "\n",
    "\n",
    "# Child class\n",
    "class Burung(Hewan):\n",
    "    def __init__(self, nama, jenis_makanan, warna_bulu, bisa_terbang=True):\n",
    "        # Memanggil constructor parent\n",
    "        super().__init__(nama, jenis_makanan)\n",
    "        # Atribut tambahan khusus burung\n",
    "        self.warna_bulu = warna_bulu\n",
    "        self.bisa_terbang = bisa_terbang\n",
    "\n",
    "    def info_burung(self):\n",
    "        # Memanggil method parent untuk menampilkan info dasar\n",
    "        self.info_hewan()\n",
    "        print(f\"Warna Bulu  : {self.warna_bulu}\")\n",
    "        print(f\"Bisa Terbang: {'Ya' if self.bisa_terbang else 'Tidak'}\")\n",
    "        print(\"-\" * 35)\n",
    "\n",
    "\n",
    "# Child class lain\n",
    "class Ikan(Hewan):\n",
    "    def __init__(self, nama, jenis_makanan, habitat):\n",
    "        super().__init__(nama, jenis_makanan)\n",
    "        self.habitat = habitat\n",
    "\n",
    "    def info_ikan(self):\n",
    "        self.info_hewan()\n",
    "        print(f\"Habitat     : {self.habitat}\")\n",
    "        print(\"-\" * 35)\n",
    "\n",
    "\n",
    "# Membuat beberapa objek Child class\n",
    "burung1 = Burung(\"Elang Jawa\", \"Karnivora\", \"Cokelat Gelap\")\n",
    "burung2 = Burung(\"Ayam Kampung\", \"Omnivora\", \"Cokelat\",bisa_terbang=False)\n",
    "ikan1   = Ikan(\"Ikan Koi\", \"Omnivora\", \"Kolam\")\n",
    "ikan2   = Ikan(\"Ikan Salmon\", \"Karnivora\", \"Sungai dan Laut\")\n",
    "\n",
    "# Menampilkan data semua hewan\n",
    "print(\"DAFTAR HEWAN\\n\")\n",
    "for h in [burung1, burung2, ikan1, ikan2]:\n",
    "    if isinstance(h, Burung):\n",
    "        h.info_burung()\n",
    "    elif isinstance(h, Ikan):\n",
    "        h.info_ikan()"
   ]
  }
 ],
 "metadata": {
  "kernelspec": {
   "display_name": "base",
   "language": "python",
   "name": "python3"
  },
  "language_info": {
   "codemirror_mode": {
    "name": "ipython",
    "version": 3
   },
   "file_extension": ".py",
   "mimetype": "text/x-python",
   "name": "python",
   "nbconvert_exporter": "python",
   "pygments_lexer": "ipython3",
   "version": "3.13.5"
  }
 },
 "nbformat": 4,
 "nbformat_minor": 5
}
